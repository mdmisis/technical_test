{
 "cells": [
  {
   "cell_type": "code",
   "execution_count": 2,
   "metadata": {
    "collapsed": true
   },
   "outputs": [],
   "source": [
    "import matplotlib.pyplot as plt\n",
    "import pandas as pd\n",
    "import datetime as dt\n",
    "from IPython.display import display, HTML\n",
    "\n",
    "\n",
    "### REDUCE MEMORY FILE and CLEAN DATA\n",
    "search_file=\"D:/programmation/testTechnique/search/searches.csv\"\n",
    "search_file_clean=\"D:/programmation/testTechnique/search/searches_clean.csv\"\n",
    "\n",
    "# Open search file\n",
    "source = open(search_file, \"r\")\n",
    "\n",
    "# Create a nex file\n",
    "destination = open(search_file_clean, \"w\")\n",
    "\n",
    "#clean and reduce file size\n",
    "for line in source:\n",
    "    split_line=line.split('^')\n",
    "    if len(split_line)>6:\n",
    "        concat_line=split_line[0]+\"^\"+split_line[6]+\"\\n\"\n",
    "        destination.write(concat_line)\n",
    "    else:\n",
    "        #Clean broken data\n",
    "        split_line=line.split(',')\n",
    "        if len(split_line)>7:\n",
    "            concat_line=split_line[0]+\"^\"+split_line[6]+\"\\n\"\n",
    "            destination.write(concat_line)\n",
    "\n",
    "#close file\n",
    "source.close()\n",
    "destination.close()\n",
    "\n",
    "\n"
   ]
  },
  {
   "cell_type": "code",
   "execution_count": 5,
   "metadata": {
    "collapsed": false
   },
   "outputs": [
    {
     "ename": "NameError",
     "evalue": "name 'display' is not defined",
     "output_type": "error",
     "traceback": [
      "\u001b[1;31m\u001b[0m",
      "\u001b[1;31mNameError\u001b[0mTraceback (most recent call last)",
      "\u001b[1;32m<ipython-input-5-fa97808bce39>\u001b[0m in \u001b[0;36m<module>\u001b[1;34m()\u001b[0m\n\u001b[0;32m     22\u001b[0m \u001b[0mdestination\u001b[0m\u001b[1;33m=\u001b[0m\u001b[0mgrp_searches\u001b[0m\u001b[1;33m[\u001b[0m\u001b[1;34m'Destination'\u001b[0m\u001b[1;33m]\u001b[0m\u001b[1;33m.\u001b[0m\u001b[0munique\u001b[0m\u001b[1;33m(\u001b[0m\u001b[1;33m)\u001b[0m\u001b[1;33m\u001b[0m\u001b[0m\n\u001b[0;32m     23\u001b[0m \u001b[1;33m\u001b[0m\u001b[0m\n\u001b[1;32m---> 24\u001b[1;33m \u001b[0mdisplay\u001b[0m\u001b[1;33m(\u001b[0m\u001b[0mgrp_searches\u001b[0m\u001b[1;33m.\u001b[0m\u001b[0mhead\u001b[0m\u001b[1;33m(\u001b[0m\u001b[1;33m)\u001b[0m\u001b[1;33m)\u001b[0m\u001b[1;33m\u001b[0m\u001b[0m\n\u001b[0m\u001b[0;32m     25\u001b[0m \u001b[1;33m\u001b[0m\u001b[0m\n\u001b[0;32m     26\u001b[0m \u001b[1;33m\u001b[0m\u001b[0m\n",
      "\u001b[1;31mNameError\u001b[0m: name 'display' is not defined"
     ]
    }
   ],
   "source": [
    "from IPython.display import display, HTML\n",
    "searches = pd.read_csv(search_file_clean,skipinitialspace=True,sep='^')\n",
    "\n",
    "#clean column name\n",
    "searches.columns = searches.columns.str.strip()\n",
    "\n",
    "#filter searches by Destination BCN, MAD and AGP\n",
    "searches=searches[(searches.Destination=='BCN') | (searches.Destination=='MAD') | (searches.Destination=='AGP')]\n",
    "\n",
    "#Format date and add column \n",
    "list_years = [item[:7] for item in searches['Date']]\n",
    "\n",
    "list_date = [item[:7].replace('-','') for item in searches['Date']]\n",
    "\n",
    "searches['Date']=list_date\n",
    "\n",
    "searches['nb_searches']=list_years\n",
    "\n",
    "#group by Date and Destination\n",
    "grp_searches=searches.groupby(['Date','Destination'],as_index=False).aggregate({'nb_searches' :'count'})\n",
    "\n",
    "destination=grp_searches['Destination'].unique()\n",
    "\n",
    "display(grp_searches.head())\n",
    "\n",
    "\n"
   ]
  },
  {
   "cell_type": "code",
   "execution_count": null,
   "metadata": {
    "collapsed": true
   },
   "outputs": [],
   "source": []
  }
 ],
 "metadata": {
  "kernelspec": {
   "display_name": "Python 3",
   "language": "python",
   "name": "python3"
  },
  "language_info": {
   "codemirror_mode": {
    "name": "ipython",
    "version": 3
   },
   "file_extension": ".py",
   "mimetype": "text/x-python",
   "name": "python",
   "nbconvert_exporter": "python",
   "pygments_lexer": "ipython3",
   "version": "3.4.0"
  }
 },
 "nbformat": 4,
 "nbformat_minor": 0
}
