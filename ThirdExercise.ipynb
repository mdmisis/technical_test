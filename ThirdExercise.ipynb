{
 "cells": [
  {
   "cell_type": "code",
   "execution_count": 2,
   "metadata": {
    "collapsed": true
   },
   "outputs": [],
   "source": [
    "import matplotlib.pyplot as plt\n",
    "import pandas as pd\n",
    "import datetime as dt\n",
    "\n",
    "\n",
    "### REDUCE MEMORY FILE and CLEAN DATA\n",
    "search_file=\"D:/programmation/testTechnique/search/searches.csv\"\n",
    "search_file_clean=\"D:/programmation/testTechnique/search/searches_clean.csv\"\n",
    "\n",
    "# Open search file\n",
    "source = open(search_file, \"r\")\n",
    "\n",
    "# Create a nex file\n",
    "destination = open(search_file_clean, \"w\")\n",
    "\n",
    "#clean and reduce file size\n",
    "for line in source:\n",
    "    split_line=line.split('^')\n",
    "    if len(split_line)>6:\n",
    "        concat_line=split_line[0]+\"^\"+split_line[6]+\"\\n\"\n",
    "        destination.write(concat_line)\n",
    "    else:\n",
    "        #Clean broken data\n",
    "        split_line=line.split(',')\n",
    "        if len(split_line)>7:\n",
    "            concat_line=split_line[0]+\"^\"+split_line[6]+\"\\n\"\n",
    "            destination.write(concat_line)\n",
    "\n",
    "            \n",
    "source.close()\n",
    "destination.close()\n",
    "\n",
    "\n"
   ]
  },
  {
   "cell_type": "code",
   "execution_count": null,
   "metadata": {
    "collapsed": true
   },
   "outputs": [],
   "source": []
  }
 ],
 "metadata": {
  "kernelspec": {
   "display_name": "Python 3",
   "language": "python",
   "name": "python3"
  },
  "language_info": {
   "codemirror_mode": {
    "name": "ipython",
    "version": 3
   },
   "file_extension": ".py",
   "mimetype": "text/x-python",
   "name": "python",
   "nbconvert_exporter": "python",
   "pygments_lexer": "ipython3",
   "version": "3.4.0"
  }
 },
 "nbformat": 4,
 "nbformat_minor": 0
}
