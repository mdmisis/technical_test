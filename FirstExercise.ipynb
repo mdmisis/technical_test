{
 "cells": [
  {
   "cell_type": "code",
   "execution_count": 1,
   "metadata": {},
   "outputs": [
    {
     "name": "stderr",
     "output_type": "stream",
     "text": [
      "C:\\Users\\OVNI\\MachineLearn\\lib\\site-packages\\IPython\\core\\interactiveshell.py:2723: DtypeWarning: Columns (7,8,27) have mixed types. Specify dtype option on import or set low_memory=False.\n",
      "  interactivity=interactivity, compiler=compiler, result=result)\n"
     ]
    },
    {
     "metadata": {}
    },
    {
     "name": "stderr",
     "output_type": "stream",
     "text": [
      "C:\\Users\\OVNI\\MachineLearn\\lib\\site-packages\\IPython\\core\\interactiveshell.py:2723: DtypeWarning: Columns (40,41,42,44) have mixed types. Specify dtype option on import or set low_memory=False.\n",
      "  interactivity=interactivity, compiler=compiler, result=result)\n"
     ]
    },
    {
     "metadata": {}
    },
    {
     "data": {
      "text/plain": [
       "7"
      ]
     },
     "execution_count": 1,
     "output_type": "execute_result",
     "metadata": {}
    }
   ],
   "source": [
    "import pandas as pd\n",
    "from IPython.display import display, HTML\n",
    "import gc\n",
    "\n",
    "\n",
    "path_to_bookings_file=\"D:/programmation/testTechnique/booking/bookings.csv\"\n",
    "path_to_searches_file=\"D:/programmation/testTechnique/search/searches.csv\"\n",
    "separator_csv=\"^\"\n",
    "booking = pd.read_csv(path_to_bookings_file,skipinitialspace=True,sep=separator_csv)\n",
    "display(\"number lines in bookings file = \"+str(len(booking)))\n",
    "del booking\n",
    "gc.collect()\n",
    "search = pd.read_csv(path_to_searches_file,skipinitialspace=True,sep=separator_csv)\n",
    "display(\"number lines in searches file = \"+str(len(search)))\n",
    "del search\n",
    "gc.collect()"
   ]
  },
  {
   "cell_type": "code",
   "execution_count": null,
   "metadata": {},
   "outputs": [],
   "source": [
    ""
   ]
  }
 ],
 "metadata": {
  "kernelspec": {
   "display_name": "Python 3",
   "language": "python",
   "name": "python3"
  },
  "language_info": {
   "codemirror_mode": {
    "name": "ipython",
    "version": 3.0
   },
   "file_extension": ".py",
   "mimetype": "text/x-python",
   "name": "python",
   "nbconvert_exporter": "python",
   "pygments_lexer": "ipython3",
   "version": "3.4.0"
  }
 },
 "nbformat": 4,
 "nbformat_minor": 0
}